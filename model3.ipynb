{
 "cells": [
  {
   "cell_type": "code",
   "execution_count": 40,
   "metadata": {},
   "outputs": [
    {
     "name": "stdout",
     "output_type": "stream",
     "text": [
      "1.12.0\n",
      "1.14.3\n",
      "2.1.6-tf\n"
     ]
    }
   ],
   "source": [
    "import numpy as np\n",
    "import tensorflow as tf\n",
    "from tensorflow import keras\n",
    "from sklearn.metrics import confusion_matrix, classification_report, f1_score\n",
    "from keras.utils import plot_model\n",
    "from keras.utils.vis_utils import model_to_dot\n",
    "\n",
    "from imp import reload\n",
    "from IPython.display import SVG\n",
    "from IPython.display import Image\n",
    "import itertools\n",
    "from __future__ import print_function\n",
    "\n",
    "print(tf.__version__)\n",
    "print(np.__version__)\n",
    "print(keras.__version__)"
   ]
  },
  {
   "cell_type": "code",
   "execution_count": 41,
   "metadata": {},
   "outputs": [],
   "source": [
    "imdb = keras.datasets.imdb\n",
    "(x_train, y_train), (x_test, y_test) = imdb.load_data(num_words=5000)"
   ]
  },
  {
   "cell_type": "code",
   "execution_count": 42,
   "metadata": {},
   "outputs": [
    {
     "name": "stdout",
     "output_type": "stream",
     "text": [
      "Train Data Size (25000, 300)\n",
      "Test Data Size (25000, 300)\n"
     ]
    }
   ],
   "source": [
    "x_train = keras.preprocessing.sequence.pad_sequences(x_train, maxlen = 300)\n",
    "x_test = keras.preprocessing.sequence.pad_sequences(x_test, maxlen = 300)\n",
    "\n",
    "print(\"Train Data Size\",x_train.shape)\n",
    "print(\"Test Data Size\",x_test.shape)"
   ]
  },
  {
   "cell_type": "code",
   "execution_count": 84,
   "metadata": {},
   "outputs": [
    {
     "name": "stdout",
     "output_type": "stream",
     "text": [
      "_________________________________________________________________\n",
      "Layer (type)                 Output Shape              Param #   \n",
      "=================================================================\n",
      "embedding_2 (Embedding)      (None, 300, 50)           250000    \n",
      "_________________________________________________________________\n",
      "dropout_4 (Dropout)          (None, 300, 50)           0         \n",
      "_________________________________________________________________\n",
      "conv1d_2 (Conv1D)            (None, 298, 250)          37750     \n",
      "_________________________________________________________________\n",
      "global_max_pooling1d_2 (Glob (None, 250)               0         \n",
      "_________________________________________________________________\n",
      "dense_4 (Dense)              (None, 250)               62750     \n",
      "_________________________________________________________________\n",
      "dropout_5 (Dropout)          (None, 250)               0         \n",
      "_________________________________________________________________\n",
      "activation_4 (Activation)    (None, 250)               0         \n",
      "_________________________________________________________________\n",
      "dense_5 (Dense)              (None, 1)                 251       \n",
      "_________________________________________________________________\n",
      "activation_5 (Activation)    (None, 1)                 0         \n",
      "=================================================================\n",
      "Total params: 350,751\n",
      "Trainable params: 350,751\n",
      "Non-trainable params: 0\n",
      "_________________________________________________________________\n"
     ]
    }
   ],
   "source": [
    "vocab_size = 5000\n",
    "embedding_size = 50\n",
    "\n",
    "filters = 250\n",
    "kernal_size = 3\n",
    "\n",
    "hidden_dims = 250\n",
    "\n",
    "model = keras.Sequential()\n",
    "model.add(keras.layers.Embedding(vocab_size,50,input_length=300))\n",
    "model.add(keras.layers.Dropout(0.2))\n",
    "model.add(keras.layers.Conv1D(filters,kernal_size,padding='valid',activation='relu',strides=1))\n",
    "model.add(keras.layers.GlobalMaxPooling1D())\n",
    "\n",
    "model.add(keras.layers.Dense(hidden_dims))\n",
    "model.add(keras.layers.Dropout(0.2))\n",
    "model.add(keras.layers.Activation('tanh'))\n",
    "\n",
    "model.add(keras.layers.Dense(1))\n",
    "model.add(keras.layers.Activation('sigmoid'))\n",
    "\n",
    "model.summary()"
   ]
  },
  {
   "cell_type": "code",
   "execution_count": 85,
   "metadata": {},
   "outputs": [],
   "source": [
    "model.compile(loss='binary_crossentropy',\n",
    "             optimizer='Adam',\n",
    "             metrics=['accuracy'])"
   ]
  },
  {
   "cell_type": "code",
   "execution_count": 86,
   "metadata": {},
   "outputs": [
    {
     "name": "stderr",
     "output_type": "stream",
     "text": [
      "/anaconda3/lib/python3.6/site-packages/tensorflow/python/ops/gradients_impl.py:112: UserWarning: Converting sparse IndexedSlices to a dense Tensor of unknown shape. This may consume a large amount of memory.\n",
      "  \"Converting sparse IndexedSlices to a dense Tensor of unknown shape. \"\n"
     ]
    },
    {
     "name": "stdout",
     "output_type": "stream",
     "text": [
      "Train on 25000 samples, validate on 25000 samples\n",
      "Epoch 1/4\n",
      "25000/25000 [==============================] - 96s 4ms/step - loss: 0.4292 - acc: 0.7844 - val_loss: 0.2823 - val_acc: 0.8814\n",
      "Epoch 2/4\n",
      "25000/25000 [==============================] - 96s 4ms/step - loss: 0.2364 - acc: 0.9029 - val_loss: 0.2594 - val_acc: 0.8925\n",
      "Epoch 3/4\n",
      "25000/25000 [==============================] - 94s 4ms/step - loss: 0.1634 - acc: 0.9379 - val_loss: 0.3512 - val_acc: 0.8640\n",
      "Epoch 4/4\n",
      "25000/25000 [==============================] - 94s 4ms/step - loss: 0.1114 - acc: 0.9590 - val_loss: 0.3444 - val_acc: 0.8796\n"
     ]
    }
   ],
   "source": [
    "batch_size = 64\n",
    "epochs = 4\n",
    "\n",
    "history = model.fit(x_train, y_train,\n",
    "         batch_size=batch_size,\n",
    "         epochs=epochs,\n",
    "         validation_data=(x_test,y_test),\n",
    "         verbose=1)"
   ]
  },
  {
   "cell_type": "code",
   "execution_count": 87,
   "metadata": {},
   "outputs": [
    {
     "name": "stdout",
     "output_type": "stream",
     "text": [
      "25000/25000 [==============================] - 10s 412us/step\n",
      "Score: 0.3443670129299164 Accuracy: 0.8796400000190735\n"
     ]
    }
   ],
   "source": [
    "score,acc_test = model.evaluate(x_test, y_test, batch_size=batch_size)\n",
    "print(\"Score:\",score,\"Accuracy:\",acc_test)"
   ]
  },
  {
   "cell_type": "code",
   "execution_count": 88,
   "metadata": {},
   "outputs": [
    {
     "data": {
      "text/plain": [
       "dict_keys(['val_loss', 'val_acc', 'loss', 'acc'])"
      ]
     },
     "execution_count": 88,
     "metadata": {},
     "output_type": "execute_result"
    }
   ],
   "source": [
    "history_dict = history.history\n",
    "history_dict.keys()"
   ]
  },
  {
   "cell_type": "code",
   "execution_count": 89,
   "metadata": {},
   "outputs": [
    {
     "name": "stdout",
     "output_type": "stream",
     "text": [
      "range(1, 5)\n"
     ]
    },
    {
     "data": {
      "image/png": "[encoded data removed]",
      "text/plain": [
       "<Figure size 432x288 with 1 Axes>"
      ]
     },
     "metadata": {},
     "output_type": "display_data"
    }
   ],
   "source": [
    "import matplotlib.pyplot as plt\n",
    "\n",
    "loss = history_dict['loss']\n",
    "val_loss = history_dict['val_loss']\n",
    "\n",
    "epochs = range(1, len(loss)+1)\n",
    "print(epochs)\n",
    "\n",
    "plt.plot(epochs, loss, marker='o', alpha=0.8, label='Training loss')\n",
    "plt.plot(epochs, val_loss, marker='o', alpha=0.8, label='Validation loss')\n",
    "plt.title('Training and validation loss')\n",
    "plt.xlabel('Epochs')\n",
    "plt.ylabel('Loss')\n",
    "plt.legend()\n",
    "\n",
    "plt.show()"
   ]
  },
  {
   "cell_type": "code",
   "execution_count": 90,
   "metadata": {},
   "outputs": [
    {
     "data": {
      "image/png": "[encoded data removed]",
      "text/plain": [
       "<Figure size 432x288 with 1 Axes>"
      ]
     },
     "metadata": {},
     "output_type": "display_data"
    }
   ],
   "source": [
    "\n",
    "acc = history_dict['acc']\n",
    "val_acc = history_dict['val_acc']\n",
    "\n",
    "plt.plot(epochs, acc, marker='o', alpha=0.8, label='Training Accuracy')\n",
    "plt.plot(epochs, val_acc, marker='D', color='green',alpha=0.8, label='Validation Accuracy')\n",
    "plt.title('Training and validation Accuracy')\n",
    "plt.xlabel('Epochs')\n",
    "plt.ylabel('Accuracy')\n",
    "plt.legend()\n",
    "\n",
    "plt.show()\n"
   ]
  },
  {
   "cell_type": "code",
   "execution_count": 91,
   "metadata": {},
   "outputs": [],
   "source": [
    "word_index = imdb.get_word_index()\n",
    "\n",
    "word_index = {k: v+3 for k,v in word_index.items()}\n",
    "word_index[\"<PAD>\"] = 0\n",
    "word_index[\"<START>\"] = 1\n",
    "word_index[\"<UNK>\"] = 2  # unknown\n",
    "word_index[\"<UNUSED>\"] = 3\n",
    "\n",
    "reverse_word_index = dict([(key,value) for (value,key) in word_index.items()])\n",
    "\n",
    "def get_review(text):\n",
    "  return ' '.join([reverse_word_index.get(i, '?') for i in text])"
   ]
  },
  {
   "cell_type": "code",
   "execution_count": 203,
   "metadata": {},
   "outputs": [],
   "source": [
    "#I do like to recommend this movie\n",
    "#Dogs do not like to chase cats\n",
    "#You are not going to sanjose\n",
    "#A Summer Film That Is Better Than The Hype\n",
    "string =\"A Summer Film That Is Better Than The Hype\"\n"
   ]
  },
  {
   "cell_type": "code",
   "execution_count": 204,
   "metadata": {},
   "outputs": [
    {
     "name": "stdout",
     "output_type": "stream",
     "text": [
      "Result= [[1]] : Positive\n",
      "\n"
     ]
    }
   ],
   "source": [
    "string_list = string.split(None)\n",
    "custom_review = np.zeros(300)\n",
    "custom_review[0] = 1\n",
    "for i in range(len(string_list)):\n",
    "    if string_list[i] in word_index :\n",
    "        custom_review[i+1] = word_index[string_list[i]]\n",
    "    else:\n",
    "        custom_review[i] = 2\n",
    "prediction_result = model.predict_classes([[custom_review]])\n",
    "#print(custom_review)\n",
    "if (prediction_result == 1):\n",
    "    print(\"Result=\",prediction_result,\": Positive\")\n",
    "    print('')\n",
    "else:\n",
    "    print(\"Result=\",prediction_result,\": Negative\")\n",
    "    print('')\n"
   ]
  },
  {
   "cell_type": "code",
   "execution_count": null,
   "metadata": {},
   "outputs": [],
   "source": []
  }
 ],
 "metadata": {
  "celltoolbar": "Attachments",
  "kernelspec": {
   "display_name": "Python 3",
   "language": "python",
   "name": "python3"
  },
  "language_info": {
   "codemirror_mode": {
    "name": "ipython",
    "version": 3
   },
   "file_extension": ".py",
   "mimetype": "text/x-python",
   "name": "python",
   "nbconvert_exporter": "python",
   "pygments_lexer": "ipython3",
   "version": "3.6.5"
  }
 },
 "nbformat": 4,
 "nbformat_minor": 2
}
