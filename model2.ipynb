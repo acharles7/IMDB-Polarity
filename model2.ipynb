{
 "cells": [
  {
   "cell_type": "code",
   "execution_count": 126,
   "metadata": {
    "colab": {
     "base_uri": "https://localhost:8080/",
     "height": 68
    },
    "colab_type": "code",
    "id": "RPY3ClIXkb2H",
    "outputId": "be9d6185-b537-437a-bfea-cc079ee3af5f"
   },
   "outputs": [
    {
     "name": "stdout",
     "output_type": "stream",
     "text": [
      "1.12.0\n",
      "1.14.3\n",
      "2.1.6-tf\n"
     ]
    }
   ],
   "source": [
    "import tensorflow as tf\n",
    "from tensorflow import keras\n",
    "import numpy as np\n",
    "\n",
    "print(tf.__version__)\n",
    "print(np.__version__)\n",
    "print(keras.__version__)"
   ]
  },
  {
   "cell_type": "code",
   "execution_count": 127,
   "metadata": {
    "colab": {},
    "colab_type": "code",
    "id": "LuVfQz6vlXfG"
   },
   "outputs": [],
   "source": [
    "imdb = keras.datasets.imdb\n"
   ]
  },
  {
   "cell_type": "code",
   "execution_count": 128,
   "metadata": {
    "colab": {
     "base_uri": "https://localhost:8080/",
     "height": 51
    },
    "colab_type": "code",
    "id": "wuEhpunXltpP",
    "outputId": "3b519cfd-9abd-4324-cf5f-51da0d5efdd0"
   },
   "outputs": [],
   "source": [
    "(train_data, train_labels),(test_data, test_labels) = imdb.load_data(num_words=10000)"
   ]
  },
  {
   "cell_type": "code",
   "execution_count": 129,
   "metadata": {
    "colab": {
     "base_uri": "https://localhost:8080/",
     "height": 34
    },
    "colab_type": "code",
    "id": "1V2fRoIBmSkM",
    "outputId": "459e283b-aa99-4a06-893c-962a9ddb938b"
   },
   "outputs": [
    {
     "name": "stdout",
     "output_type": "stream",
     "text": [
      "Training Data: 25000,Labels:25000\n"
     ]
    }
   ],
   "source": [
    "print(\"Training Data: {},Labels:{}\".format(len(train_data), len(train_labels)))"
   ]
  },
  {
   "cell_type": "code",
   "execution_count": 130,
   "metadata": {
    "colab": {
     "base_uri": "https://localhost:8080/",
     "height": 54
    },
    "colab_type": "code",
    "id": "KyLLuZw0nLxW",
    "outputId": "9167857f-3e53-42e2-b839-0141613c3ea6"
   },
   "outputs": [
    {
     "name": "stdout",
     "output_type": "stream",
     "text": [
      "[1, 194, 1153, 194, 8255, 78, 228, 5, 6, 1463, 4369, 5012, 134, 26, 4, 715, 8, 118, 1634, 14, 394, 20, 13, 119, 954, 189, 102, 5, 207, 110, 3103, 21, 14, 69, 188, 8, 30, 23, 7, 4, 249, 126, 93, 4, 114, 9, 2300, 1523, 5, 647, 4, 116, 9, 35, 8163, 4, 229, 9, 340, 1322, 4, 118, 9, 4, 130, 4901, 19, 4, 1002, 5, 89, 29, 952, 46, 37, 4, 455, 9, 45, 43, 38, 1543, 1905, 398, 4, 1649, 26, 6853, 5, 163, 11, 3215, 2, 4, 1153, 9, 194, 775, 7, 8255, 2, 349, 2637, 148, 605, 2, 8003, 15, 123, 125, 68, 2, 6853, 15, 349, 165, 4362, 98, 5, 4, 228, 9, 43, 2, 1157, 15, 299, 120, 5, 120, 174, 11, 220, 175, 136, 50, 9, 4373, 228, 8255, 5, 2, 656, 245, 2350, 5, 4, 9837, 131, 152, 491, 18, 2, 32, 7464, 1212, 14, 9, 6, 371, 78, 22, 625, 64, 1382, 9, 8, 168, 145, 23, 4, 1690, 15, 16, 4, 1355, 5, 28, 6, 52, 154, 462, 33, 89, 78, 285, 16, 145, 95]\n"
     ]
    }
   ],
   "source": [
    "print(train_data[1])"
   ]
  },
  {
   "cell_type": "code",
   "execution_count": 131,
   "metadata": {
    "colab": {
     "base_uri": "https://localhost:8080/",
     "height": 51
    },
    "colab_type": "code",
    "id": "nqvaPR2EnblT",
    "outputId": "b94d0cba-f614-4101-bac5-15f62399b49b"
   },
   "outputs": [],
   "source": [
    "word_index = imdb.get_word_index()\n",
    "\n",
    "word_index = {k: v+3 for k,v in word_index.items()}\n",
    "word_index[\"<PAD>\"] = 0\n",
    "word_index[\"<START>\"] = 1\n",
    "word_index[\"<UNK>\"] = 2  # unknown\n",
    "word_index[\"<UNUSED>\"] = 3\n",
    "\n",
    "reverse_word_index = dict([(key,value) for (value,key) in word_index.items()])\n",
    "\n",
    "def get_review(text):\n",
    "  return ' '.join([reverse_word_index.get(i, '?') for i in text])"
   ]
  },
  {
   "cell_type": "code",
   "execution_count": 132,
   "metadata": {
    "colab": {
     "base_uri": "https://localhost:8080/",
     "height": 71
    },
    "colab_type": "code",
    "id": "fHL7kSEXn_GM",
    "outputId": "27cf49f7-21d8-49a4-bfcf-9909846316c3"
   },
   "outputs": [
    {
     "name": "stdout",
     "output_type": "stream",
     "text": [
      "[1, 14, 20, 47, 111, 439, 3445, 19, 12, 15, 166, 12, 216, 125, 40, 6, 364, 352, 707, 1187, 39, 294, 11, 22, 396, 13, 28, 8, 202, 12, 1109, 23, 94, 2, 151, 111, 211, 469, 4, 20, 13, 258, 546, 1104, 7273, 12, 16, 38, 78, 33, 211, 15, 12, 16, 2849, 63, 93, 12, 6, 253, 106, 10, 10, 48, 335, 267, 18, 6, 364, 1242, 1179, 20, 19, 6, 1009, 7, 1987, 189, 5, 6, 8419, 7, 2723, 2, 95, 1719, 6, 6035, 7, 3912, 7144, 49, 369, 120, 5, 28, 49, 253, 10, 10, 13, 1041, 19, 85, 795, 15, 4, 481, 9, 55, 78, 807, 9, 375, 8, 1167, 8, 794, 76, 7, 4, 58, 5, 4, 816, 9, 243, 7, 43, 50]\n",
      "<START> this movie has many problem associated with it that makes it come off like a low budget class project from someone in film school i have to give it credit on its <UNK> though many times throughout the movie i found myself laughing hysterically it was so bad at times that it was comical which made it a fun watch br br if you're looking for a low grade slasher movie with a twist of psychological horror and a dash of campy <UNK> then pop a bowl of popcorn invite some friends over and have some fun br br i agree with other comments that the sound is very bad dialog is next to impossible to follow much of the time and the soundtrack is kind of just there\n"
     ]
    }
   ],
   "source": [
    "print(train_data[9])\n",
    "print(get_review(train_data[9]))\n"
   ]
  },
  {
   "cell_type": "code",
   "execution_count": 133,
   "metadata": {
    "colab": {},
    "colab_type": "code",
    "id": "p9qDhDnStjjU"
   },
   "outputs": [],
   "source": [
    "train_data = keras.preprocessing.sequence.pad_sequences(train_data,\n",
    "                                                        value=word_index[\"<PAD>\"], \n",
    "                                                        padding = 'post', \n",
    "                                                        maxlen = 256)\n",
    "test_data = keras.preprocessing.sequence.pad_sequences(test_data,\n",
    "                                                        value=word_index[\"<PAD>\"], \n",
    "                                                        padding = 'post', \n",
    "                                                        maxlen = 256)"
   ]
  },
  {
   "cell_type": "code",
   "execution_count": 134,
   "metadata": {
    "colab": {
     "base_uri": "https://localhost:8080/",
     "height": 34
    },
    "colab_type": "code",
    "id": "gkENH4XNwLuN",
    "outputId": "a8996b92-a1c7-469b-abed-beb3d83a5676"
   },
   "outputs": [
    {
     "data": {
      "text/plain": [
       "(256, 256)"
      ]
     },
     "execution_count": 134,
     "metadata": {},
     "output_type": "execute_result"
    }
   ],
   "source": [
    "len(train_data[100]), len(train_data[100])"
   ]
  },
  {
   "cell_type": "code",
   "execution_count": 135,
   "metadata": {
    "colab": {
     "base_uri": "https://localhost:8080/",
     "height": 306
    },
    "colab_type": "code",
    "id": "KhX4cjScwXkc",
    "outputId": "1f8d81fa-abfb-4f7f-8b0f-29125227b3c6"
   },
   "outputs": [
    {
     "name": "stdout",
     "output_type": "stream",
     "text": [
      "_________________________________________________________________\n",
      "Layer (type)                 Output Shape              Param #   \n",
      "=================================================================\n",
      "embedding_2 (Embedding)      (None, None, 16)          160000    \n",
      "_________________________________________________________________\n",
      "global_max_pooling1d_2 (Glob (None, 16)                0         \n",
      "_________________________________________________________________\n",
      "dense_4 (Dense)              (None, 16)                272       \n",
      "_________________________________________________________________\n",
      "dense_5 (Dense)              (None, 1)                 17        \n",
      "=================================================================\n",
      "Total params: 160,289\n",
      "Trainable params: 160,289\n",
      "Non-trainable params: 0\n",
      "_________________________________________________________________\n"
     ]
    }
   ],
   "source": [
    "vocab_size = 10000\n",
    "\n",
    "model = keras.Sequential()\n",
    "model.add(keras.layers.Embedding(vocab_size,16))\n",
    "model.add(keras.layers.GlobalMaxPooling1D())\n",
    "model.add(keras.layers.Dense(16,activation=tf.nn.softmax))\n",
    "model.add(keras.layers.Dense(1,activation=tf.nn.sigmoid))\n",
    "\n",
    "model.summary()"
   ]
  },
  {
   "cell_type": "code",
   "execution_count": 136,
   "metadata": {
    "colab": {},
    "colab_type": "code",
    "id": "jj2xpsTDbvv_"
   },
   "outputs": [],
   "source": [
    "model.compile(optimizer=tf.train.AdamOptimizer(),\n",
    "             loss='binary_crossentropy',\n",
    "             metrics=['accuracy'])"
   ]
  },
  {
   "cell_type": "code",
   "execution_count": 137,
   "metadata": {
    "colab": {},
    "colab_type": "code",
    "id": "gELAHa3fhsqJ"
   },
   "outputs": [],
   "source": [
    "x_val = train_data[:10000]\n",
    "partial_x_train = train_data[10000:]\n",
    "\n",
    "y_val = train_labels[:10000]\n",
    "partial_y_train = train_labels[10000:]"
   ]
  },
  {
   "cell_type": "code",
   "execution_count": 138,
   "metadata": {
    "colab": {
     "base_uri": "https://localhost:8080/",
     "height": 204
    },
    "colab_type": "code",
    "id": "X2VCDxJejD-f",
    "outputId": "9fb3d065-7d21-41c2-a07e-73da83d0904b"
   },
   "outputs": [
    {
     "name": "stdout",
     "output_type": "stream",
     "text": [
      "Train on 15000 samples, validate on 10000 samples\n",
      "Epoch 1/20\n",
      "15000/15000 [==============================] - 3s 189us/step - loss: 0.6935 - acc: 0.4965 - val_loss: 0.6926 - val_acc: 0.5053\n",
      "Epoch 2/20\n",
      "15000/15000 [==============================] - 3s 169us/step - loss: 0.6916 - acc: 0.6185 - val_loss: 0.6898 - val_acc: 0.7327\n",
      "Epoch 3/20\n",
      "15000/15000 [==============================] - 2s 146us/step - loss: 0.6855 - acc: 0.7902 - val_loss: 0.6802 - val_acc: 0.7755\n",
      "Epoch 4/20\n",
      "15000/15000 [==============================] - 2s 146us/step - loss: 0.6674 - acc: 0.8282 - val_loss: 0.6542 - val_acc: 0.8166\n",
      "Epoch 5/20\n",
      "15000/15000 [==============================] - 2s 146us/step - loss: 0.6282 - acc: 0.8439 - val_loss: 0.6089 - val_acc: 0.8240\n",
      "Epoch 6/20\n",
      "15000/15000 [==============================] - 2s 162us/step - loss: 0.5749 - acc: 0.8546 - val_loss: 0.5604 - val_acc: 0.8312\n",
      "Epoch 7/20\n",
      "15000/15000 [==============================] - 2s 164us/step - loss: 0.5245 - acc: 0.8622 - val_loss: 0.5204 - val_acc: 0.8355\n",
      "Epoch 8/20\n",
      "15000/15000 [==============================] - 3s 167us/step - loss: 0.4819 - acc: 0.8698 - val_loss: 0.4886 - val_acc: 0.8388\n",
      "Epoch 9/20\n",
      "15000/15000 [==============================] - 2s 156us/step - loss: 0.4456 - acc: 0.8790 - val_loss: 0.4632 - val_acc: 0.8418\n",
      "Epoch 10/20\n",
      "15000/15000 [==============================] - 2s 146us/step - loss: 0.4142 - acc: 0.8882 - val_loss: 0.4432 - val_acc: 0.8431\n",
      "Epoch 11/20\n",
      "15000/15000 [==============================] - 2s 146us/step - loss: 0.3870 - acc: 0.8963 - val_loss: 0.4273 - val_acc: 0.8457\n",
      "Epoch 12/20\n",
      "15000/15000 [==============================] - 2s 147us/step - loss: 0.3627 - acc: 0.9047 - val_loss: 0.4147 - val_acc: 0.8467\n",
      "Epoch 13/20\n",
      "15000/15000 [==============================] - 2s 149us/step - loss: 0.3405 - acc: 0.9145 - val_loss: 0.4044 - val_acc: 0.8477\n",
      "Epoch 14/20\n",
      "15000/15000 [==============================] - 3s 173us/step - loss: 0.3201 - acc: 0.9211 - val_loss: 0.3957 - val_acc: 0.8493\n",
      "Epoch 15/20\n",
      "15000/15000 [==============================] - 2s 160us/step - loss: 0.3012 - acc: 0.9271 - val_loss: 0.3886 - val_acc: 0.8498\n",
      "Epoch 16/20\n",
      "15000/15000 [==============================] - 3s 221us/step - loss: 0.2835 - acc: 0.9340 - val_loss: 0.3826 - val_acc: 0.8509\n",
      "Epoch 17/20\n",
      "15000/15000 [==============================] - 3s 167us/step - loss: 0.2668 - acc: 0.9412 - val_loss: 0.3778 - val_acc: 0.8512\n",
      "Epoch 18/20\n",
      "15000/15000 [==============================] - 2s 164us/step - loss: 0.2513 - acc: 0.9469 - val_loss: 0.3740 - val_acc: 0.8501\n",
      "Epoch 19/20\n",
      "15000/15000 [==============================] - 3s 178us/step - loss: 0.2367 - acc: 0.9521 - val_loss: 0.3708 - val_acc: 0.8492\n",
      "Epoch 20/20\n",
      "15000/15000 [==============================] - 2s 153us/step - loss: 0.2231 - acc: 0.9570 - val_loss: 0.3683 - val_acc: 0.8500\n"
     ]
    }
   ],
   "source": [
    "history = model.fit(partial_x_train,\n",
    "                   partial_y_train,\n",
    "                   epochs=20,\n",
    "                   batch_size=256,\n",
    "                   validation_data=(x_val,y_val),\n",
    "                   verbose=1)"
   ]
  },
  {
   "cell_type": "code",
   "execution_count": 139,
   "metadata": {
    "colab": {
     "base_uri": "https://localhost:8080/",
     "height": 51
    },
    "colab_type": "code",
    "id": "84It5XSvjwDj",
    "outputId": "8fafb40f-4e23-4b40-e35d-e83376d4e10a"
   },
   "outputs": [
    {
     "name": "stdout",
     "output_type": "stream",
     "text": [
      "25000/25000 [==============================] - 1s 30us/step\n",
      "[0.3791637990474701, 0.84488]\n"
     ]
    }
   ],
   "source": [
    "result = model.evaluate(test_data,test_labels)\n",
    "print(result)"
   ]
  },
  {
   "cell_type": "code",
   "execution_count": 140,
   "metadata": {
    "colab": {
     "base_uri": "https://localhost:8080/",
     "height": 34
    },
    "colab_type": "code",
    "id": "9pjXsrtekM0j",
    "outputId": "025f0149-e0ef-40cb-ee3d-8685e19e9c2b"
   },
   "outputs": [
    {
     "data": {
      "text/plain": [
       "dict_keys(['val_loss', 'val_acc', 'loss', 'acc'])"
      ]
     },
     "execution_count": 140,
     "metadata": {},
     "output_type": "execute_result"
    }
   ],
   "source": [
    "history_dict = history.history\n",
    "history_dict.keys()"
   ]
  },
  {
   "cell_type": "code",
   "execution_count": 141,
   "metadata": {
    "colab": {
     "base_uri": "https://localhost:8080/",
     "height": 393
    },
    "colab_type": "code",
    "id": "cwZlXGBHk4M1",
    "outputId": "08429407-0939-42dc-a0fb-db527ebb45ed"
   },
   "outputs": [
    {
     "name": "stdout",
     "output_type": "stream",
     "text": [
      "range(1, 21)\n"
     ]
    },
    {
     "data": {
      "image/png": "[encoded data removed]",
      "text/plain": [
       "<Figure size 432x288 with 1 Axes>"
      ]
     },
     "metadata": {},
     "output_type": "display_data"
    }
   ],
   "source": [
    "import matplotlib.pyplot as plt\n",
    "\n",
    "\n",
    "\n",
    "loss = history_dict['loss']\n",
    "val_loss = history_dict['val_loss']\n",
    "\n",
    "epochs = range(1, len(loss)+1)\n",
    "print(epochs)\n",
    "\n",
    "plt.plot(epochs, loss, marker='o', alpha=0.8, label='Training loss')\n",
    "plt.plot(epochs, val_loss, marker='o', alpha=0.8, label='Validation loss')\n",
    "plt.title('Training and validation loss')\n",
    "plt.xlabel('Epochs')\n",
    "plt.ylabel('Loss')\n",
    "plt.legend()\n",
    "\n",
    "plt.show()"
   ]
  },
  {
   "cell_type": "code",
   "execution_count": 142,
   "metadata": {
    "colab": {
     "base_uri": "https://localhost:8080/",
     "height": 376
    },
    "colab_type": "code",
    "id": "P9Iv6BdVlSTi",
    "outputId": "6416d054-7a85-430c-df0d-8a448860ad0b"
   },
   "outputs": [
    {
     "data": {
      "image/png": "[encoded data removed]",
      "text/plain": [
       "<Figure size 432x288 with 1 Axes>"
      ]
     },
     "metadata": {},
     "output_type": "display_data"
    }
   ],
   "source": [
    "acc = history_dict['acc']\n",
    "val_acc = history_dict['val_acc']\n",
    "\n",
    "plt.plot(epochs, acc, marker='o', alpha=0.8, label='Training Accuracy')\n",
    "plt.plot(epochs, val_acc, marker='o', alpha=0.8, label='Validation Accuracy')\n",
    "plt.title('Training and validation Accuracy')\n",
    "plt.xlabel('Epochs')\n",
    "plt.ylabel('Accuracy')\n",
    "plt.legend()\n",
    "\n",
    "plt.show()\n"
   ]
  },
  {
   "cell_type": "code",
   "execution_count": 169,
   "metadata": {
    "colab": {
     "base_uri": "https://localhost:8080/",
     "height": 1057
    },
    "colab_type": "code",
    "id": "yR_2GxPkn2cs",
    "outputId": "79f77f09-8bec-4fb4-ddf7-b937a3c5c540"
   },
   "outputs": [],
   "source": [
    "#I think it is not good movie\n",
    "#I do not like to recommend this movie\n",
    "#I think it is bad movie\n",
    "string =\"A Summer Film That Is Better Than The Hype\""
   ]
  },
  {
   "cell_type": "code",
   "execution_count": 170,
   "metadata": {},
   "outputs": [
    {
     "name": "stdout",
     "output_type": "stream",
     "text": [
      "Result= [[1]] : Positive\n",
      "\n"
     ]
    }
   ],
   "source": [
    "predictions = model.predict_classes([test_data])\n",
    "\n",
    "string_list = string.split(None)\n",
    "custom_review = np.zeros(256)\n",
    "custom_review[0] = 1\n",
    "for i in range(len(string_list)):\n",
    "    if string_list[i] in word_index :\n",
    "        custom_review[i+1] = word_index[string_list[i]]\n",
    "    else:\n",
    "        custom_review[i] = 2\n",
    "prediction_result = model.predict_classes([[custom_review]])\n",
    "if (prediction_result == 1):\n",
    "    print(\"Result=\",prediction_result,\": Positive\")\n",
    "    print('')\n",
    "else:\n",
    "    print(\"Result=\",prediction_result,\": Negative\")\n",
    "    print('')"
   ]
  },
  {
   "cell_type": "code",
   "execution_count": null,
   "metadata": {},
   "outputs": [],
   "source": []
  }
 ],
 "metadata": {
  "accelerator": "GPU",
  "colab": {
   "collapsed_sections": [],
   "name": "ml_project.ipynb",
   "provenance": [],
   "version": "0.3.2"
  },
  "kernelspec": {
   "display_name": "Python 3",
   "language": "python",
   "name": "python3"
  },
  "language_info": {
   "codemirror_mode": {
    "name": "ipython",
    "version": 3
   },
   "file_extension": ".py",
   "mimetype": "text/x-python",
   "name": "python",
   "nbconvert_exporter": "python",
   "pygments_lexer": "ipython3",
   "version": "3.6.5"
  }
 },
 "nbformat": 4,
 "nbformat_minor": 1
}
